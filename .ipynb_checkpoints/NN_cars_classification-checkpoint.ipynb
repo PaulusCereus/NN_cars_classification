{
 "cells": [
  {
   "cell_type": "markdown",
   "id": "169a272c",
   "metadata": {},
   "source": [
    "# NN for cars classification"
   ]
  },
  {
   "cell_type": "code",
   "execution_count": 52,
   "id": "4ddadc80",
   "metadata": {},
   "outputs": [],
   "source": [
    "import numpy as np\n",
    "import os\n",
    "import gdown\n",
    "import matplotlib.pyplot as plt\n",
    "from tensorflow.keras.models import Sequential\n",
    "from tensorflow.keras.layers import Dense, Conv2D, MaxPooling2D, Dropout, BatchNormalization, Flatten\n",
    "from tensorflow.keras.optimizers import Adam\n",
    "from sklearn.metrics import confusion_matrix, ConfusionMatrixDisplay\n",
    "from tensorflow.keras.preprocessing.image import ImageDataGenerator\n",
    "\n",
    "%matplotlib inline"
   ]
  },
  {
   "cell_type": "code",
   "execution_count": 53,
   "id": "7c04bc79",
   "metadata": {},
   "outputs": [],
   "source": [
    "TRAIN_PATH = 'cars'\n",
    "TEST_PATH = 'cars_test'\n",
    "\n",
    "TEST_SPLIT = 0.1\n",
    "VAL_SPLIT = 0.2\n",
    "\n",
    "IMG_WIDTH = 128\n",
    "IMG_HEIGHT = 64\n",
    "IMG_CHANNELS = 3\n",
    "\n",
    "ROTATION_RANGE = 8\n",
    "WIDTH_SHIFT_RANGE = 0.15\n",
    "HEIGHT_SHIFT_RANGE = 0.15\n",
    "ZOOM_RANGE = 0.15\n",
    "BRIGHTNESS_RANGE = (0.7, 0.12)\n",
    "HORIZONTAL_FLIP = True\n",
    "\n",
    "EPOCHS = 60\n",
    "OPTIMIZER = Adam(learning_rate = 0.0001)\n",
    "BATCH_SIZE = 24"
   ]
  },
  {
   "cell_type": "code",
   "execution_count": 54,
   "id": "ddf8da3b",
   "metadata": {},
   "outputs": [
    {
     "data": {
      "text/plain": [
       "'middle_fmr.zip'"
      ]
     },
     "execution_count": 54,
     "metadata": {},
     "output_type": "execute_result"
    }
   ],
   "source": [
    "gdown.download('https://storage.googleapis.com/datasets_ai/Base/5_Conv/middle_fmr.zip', None, quiet=True)"
   ]
  },
  {
   "cell_type": "code",
   "execution_count": 55,
   "id": "28e283b0",
   "metadata": {},
   "outputs": [],
   "source": [
    "!unzip -qo 'middle_fmr' -d {TRAIN_PATH}"
   ]
  },
  {
   "cell_type": "code",
   "execution_count": 56,
   "id": "78e41186",
   "metadata": {},
   "outputs": [
    {
     "name": "stdout",
     "output_type": "stream",
     "text": [
      "['Ferrari', 'Mercedes', 'Renault'] 3\n"
     ]
    }
   ],
   "source": [
    "CLASS_LIST = sorted(os.listdir(TRAIN_PATH))\n",
    "CLASS_COUNT = len(CLASS_LIST)\n",
    "print(CLASS_LIST, CLASS_COUNT)"
   ]
  },
  {
   "cell_type": "code",
   "execution_count": 57,
   "id": "1dceda3d",
   "metadata": {},
   "outputs": [
    {
     "name": "stdout",
     "output_type": "stream",
     "text": [
      "Размер класса Ferrari: 1088 машин, для теста выделено файлов: 108\n",
      "Размер класса Mercedes: 1161 машин, для теста выделено файлов: 116\n",
      "Размер класса Renault: 1178 машин, для теста выделено файлов: 117\n",
      "Общий размер базы: 3427, выделено для обучения: 3086, для теста: 341\n"
     ]
    }
   ],
   "source": [
    "os.mkdir(TEST_PATH)\n",
    "train_count = 0\n",
    "test_count = 0\n",
    "\n",
    "for class_name in CLASS_LIST:\n",
    "    class_path = f'{TRAIN_PATH}/{class_name}'\n",
    "    test_path = f'{TEST_PATH}/{class_name}'\n",
    "    class_files = os.listdir(class_path)\n",
    "    class_files_count = len(class_files)\n",
    "    os.mkdir(test_path)\n",
    "    test_files_count = int(class_files_count * TEST_SPLIT)\n",
    "    test_files = class_files[-test_files_count:]\n",
    "    for f in test_files:\n",
    "        os.rename(f'{class_path}/{f}', f'{test_path}/{f}')\n",
    "    train_count += class_files_count\n",
    "    test_count += test_files_count\n",
    "    print(f'Размер класса {class_name}: {class_files_count} машин, для теста выделено файлов: {test_files_count}')\n",
    "\n",
    "print(f'Общий размер базы: {train_count}, выделено для обучения: {train_count - test_count}, для теста: {test_count}')"
   ]
  },
  {
   "cell_type": "code",
   "execution_count": 58,
   "id": "84eeade6",
   "metadata": {},
   "outputs": [
    {
     "name": "stdout",
     "output_type": "stream",
     "text": [
      "Untitled.ipynb\tcars  cars_test  middle_fmr.zip\r\n"
     ]
    }
   ],
   "source": [
    "!ls"
   ]
  },
  {
   "cell_type": "code",
   "execution_count": 59,
   "id": "146b877e",
   "metadata": {},
   "outputs": [],
   "source": [
    "ImageDataGenerator?"
   ]
  },
  {
   "cell_type": "code",
   "execution_count": 60,
   "id": "b4692e3b",
   "metadata": {},
   "outputs": [],
   "source": [
    "train_datagen = ImageDataGenerator(rescale = 1. / 255.,\n",
    "                                  rotation_range = ROTATION_RANGE,\n",
    "                                  width_shift_range = WIDTH_SHIFT_RANGE,\n",
    "                                  height_shift_range = HEIGHT_SHIFT_RANGE,\n",
    "                                  brightness_range = BRIGHTNESS_RANGE,\n",
    "                                  zoom_range = ZOOM_RANGE,\n",
    "                                  horizontal_flip = HORIZONTAL_FLIP,\n",
    "                                  validation_split = VAL_SPLIT)\n",
    "\n",
    "test_datagen = ImageDataGenerator(rescale = 1. / 255.)"
   ]
  },
  {
   "cell_type": "code",
   "execution_count": 61,
   "id": "11ac2730",
   "metadata": {},
   "outputs": [
    {
     "name": "stdout",
     "output_type": "stream",
     "text": [
      "Found 2469 images belonging to 3 classes.\n",
      "Found 617 images belonging to 3 classes.\n",
      "Found 341 images belonging to 3 classes.\n"
     ]
    }
   ],
   "source": [
    "train_generator = train_datagen.flow_from_directory(TRAIN_PATH,\n",
    "                                                   target_size = (IMG_HEIGHT, IMG_WIDTH),\n",
    "                                                   batch_size = BATCH_SIZE,\n",
    "                                                   class_mode = 'categorical',\n",
    "                                                   shuffle = True,\n",
    "                                                   subset = 'training')\n",
    "validation_generator = train_datagen.flow_from_directory(TRAIN_PATH,\n",
    "                                                   target_size = (IMG_HEIGHT, IMG_WIDTH),\n",
    "                                                   batch_size = BATCH_SIZE,\n",
    "                                                   class_mode = 'categorical',\n",
    "                                                   shuffle = True,\n",
    "                                                   subset = 'validation')\n",
    "test_generator = test_datagen.flow_from_directory(TEST_PATH,\n",
    "                                                   target_size = (IMG_HEIGHT, IMG_WIDTH),\n",
    "                                                   batch_size = BATCH_SIZE,\n",
    "                                                   class_mode = 'categorical',\n",
    "                                                   shuffle = True)"
   ]
  },
  {
   "cell_type": "code",
   "execution_count": 62,
   "id": "961f3c93",
   "metadata": {},
   "outputs": [
    {
     "name": "stdout",
     "output_type": "stream",
     "text": [
      "Формы данных тренировочной выборки: (24, 64, 128, 3), (24, 3), батчей: 103\n",
      "Формы данных   проверочной выборки: (24, 64, 128, 3), (24, 3), батчей: 26\n",
      "Формы данных      тестовой выборки: (24, 64, 128, 3), (24, 3), батчей: 15\n",
      "\n",
      "Метки классов тренировочной выборки: {'Ferrari': 0, 'Mercedes': 1, 'Renault': 2}\n",
      "Метки классов   проверочной выборки: {'Ferrari': 0, 'Mercedes': 1, 'Renault': 2}\n",
      "Метки классов      тестовой выборки: {'Ferrari': 0, 'Mercedes': 1, 'Renault': 2}\n"
     ]
    }
   ],
   "source": [
    "# Проверка формы данных\n",
    "print(f'Формы данных тренировочной выборки: {train_generator[0][0].shape}, {train_generator[0][1].shape}, батчей: {len(train_generator)}')\n",
    "print(f'Формы данных   проверочной выборки: {validation_generator[0][0].shape}, {validation_generator[0][1].shape}, батчей: {len(validation_generator)}')\n",
    "print(f'Формы данных      тестовой выборки: {test_generator[0][0].shape}, {test_generator[0][1].shape}, батчей: {len(test_generator)}')\n",
    "\n",
    "print()\n",
    "\n",
    "# Проверка назначения меток классов\n",
    "print(f'Метки классов тренировочной выборки: {train_generator.class_indices}')\n",
    "print(f'Метки классов   проверочной выборки: {validation_generator.class_indices}')\n",
    "print(f'Метки классов      тестовой выборки: {test_generator.class_indices}')"
   ]
  },
  {
   "cell_type": "code",
   "execution_count": 63,
   "id": "5e450f5b",
   "metadata": {},
   "outputs": [
    {
     "data": {
      "image/png": "[encoded data removed]",
      "text/plain": [
       "<Figure size 432x288 with 1 Axes>"
      ]
     },
     "metadata": {
      "needs_background": "light"
     },
     "output_type": "display_data"
    }
   ],
   "source": [
    "plt.imshow(train_generator[1][0][2])\n",
    "plt.show()"
   ]
  },
  {
   "cell_type": "code",
   "execution_count": 64,
   "id": "cae57c05",
   "metadata": {},
   "outputs": [],
   "source": [
    "def compile_train_model(model,\n",
    "                       train_data,\n",
    "                       val_data,\n",
    "                       figsize = (20, 5),\n",
    "                       epochs = EPOCHS,\n",
    "                       optimizer = OPTIMIZER,\n",
    "                       batch_size = BATCH_SIZE):\n",
    "    model.compile(loss = 'categorical_crossentropy', optimizer = OPTIMIZER, metrics = ['accuracy'])\n",
    "    model.summary()\n",
    "    model.fit(train_data, epochs = epochs, batch_size = batch_size, validation_data = val_data)\n",
    "    \n",
    "    fig, (ax1, ax2) = plt.subplots(1, 2, figsize=figsize)\n",
    "    fig.suptitle('График процесса обучения модели')\n",
    "    ax1.plot(history.history['accuracy'], \n",
    "               label='Доля верных ответов на обучающем наборе')\n",
    "    ax1.plot(history.history['val_accuracy'], \n",
    "               label='Доля верных ответов на проверочном наборе')\n",
    "    ax1.xaxis.get_major_locator().set_params(integer=True)\n",
    "    ax1.set_xlabel('Эпоха обучения')\n",
    "    ax1.set_ylabel('Доля верных ответов')\n",
    "    ax1.legend()\n",
    "\n",
    "    ax2.plot(history.history['loss'], \n",
    "               label='Ошибка на обучающем наборе')\n",
    "    ax2.plot(history.history['val_loss'], \n",
    "               label='Ошибка на проверочном наборе')\n",
    "    ax2.xaxis.get_major_locator().set_params(integer=True)\n",
    "    ax2.set_xlabel('Эпоха обучения')\n",
    "    ax2.set_ylabel('Ошибка')\n",
    "    ax2.legend()\n",
    "    plt.show()"
   ]
  },
  {
   "cell_type": "code",
   "execution_count": 65,
   "id": "ef2f5d44",
   "metadata": {},
   "outputs": [],
   "source": [
    "def eval_model(model, \n",
    "               x,\n",
    "               y_true,\n",
    "               class_labels=[],\n",
    "               cm_round=3,\n",
    "               title='',\n",
    "               figsize=(10, 10)\n",
    "               ):\n",
    "    y_pred = model.predict(x)\n",
    "    cm = confusion_matrix(np.argmax(y_true, axis=1),\n",
    "                          np.argmax(y_pred, axis=1),\n",
    "                          normalize='true')\n",
    "    cm = np.around(cm, cm_round)\n",
    "    fig, ax = plt.subplots(figsize=figsize)\n",
    "    ax.set_title(f'Нейросеть {title}: матрица ошибок нормализованная', fontsize=18)\n",
    "    disp = ConfusionMatrixDisplay(confusion_matrix=cm, display_labels=class_labels)\n",
    "    disp.plot(ax=ax)\n",
    "    ax.images[-1].colorbar.remove()\n",
    "    fig.autofmt_xdate(rotation=45)\n",
    "    plt.xlabel('Предсказанные классы', fontsize=16)\n",
    "    plt.ylabel('Верные классы', fontsize=16)\n",
    "    plt.show()    \n",
    "\n",
    "    print('-'*100)\n",
    "    print(f'Нейросеть: {title}')\n",
    "\n",
    "    for cls in range(len(class_labels)):\n",
    "        cls_pred = np.argmax(cm[cls])\n",
    "        msg = 'ВЕРНО :-)' if cls_pred == cls else 'НЕВЕРНО :-('\n",
    "        print('Класс: {:<20} {:3.0f}% сеть отнесла к классу {:<20} - {}'.format(class_labels[cls],\n",
    "                                                                               100. * cm[cls, cls_pred],\n",
    "                                                                               class_labels[cls_pred],\n",
    "                                                                               msg))\n",
    "\n",
    "    print('\\nСредняя точность распознавания: {:3.0f}%'.format(100. * cm.diagonal().mean()))"
   ]
  },
  {
   "cell_type": "code",
   "execution_count": 66,
   "id": "41bfaa5c",
   "metadata": {},
   "outputs": [],
   "source": [
    "def compile_train_eval_model(model,\n",
    "                             train_data,\n",
    "                             val_data,\n",
    "                             test_data,\n",
    "                             class_labels=CLASS_LIST,\n",
    "                             title='',\n",
    "                             optimizer=OPTIMIZER,\n",
    "                             epochs=EPOCHS,\n",
    "                             batch_size=BATCH_SIZE,\n",
    "                             graph_size=(20, 5),\n",
    "                             cm_size=(10, 10)\n",
    "                             ):\n",
    "    \n",
    "    compile_train_model(model, \n",
    "                        train_data,\n",
    "                        val_data,\n",
    "                        optimizer=optimizer,\n",
    "                        epochs=epochs,\n",
    "                        batch_size=batch_size,\n",
    "                        figsize=graph_size)\n",
    "\n",
    "    eval_model(model, test_data[0][0], test_data[0][1], \n",
    "               class_labels=class_labels, \n",
    "               title=title,\n",
    "               figsize=cm_size)"
   ]
  },
  {
   "cell_type": "code",
   "execution_count": 67,
   "id": "469b8eaf",
   "metadata": {
    "scrolled": true
   },
   "outputs": [
    {
     "name": "stdout",
     "output_type": "stream",
     "text": [
      "Model: \"sequential_1\"\n",
      "_________________________________________________________________\n",
      "Layer (type)                 Output Shape              Param #   \n",
      "=================================================================\n",
      "conv2d_2 (Conv2D)            (None, 64, 128, 256)      7168      \n",
      "_________________________________________________________________\n",
      "batch_normalization_1 (Batch (None, 64, 128, 256)      1024      \n",
      "_________________________________________________________________\n",
      "conv2d_3 (Conv2D)            (None, 64, 128, 256)      590080    \n",
      "_________________________________________________________________\n",
      "max_pooling2d (MaxPooling2D) (None, 21, 42, 256)       0         \n",
      "_________________________________________________________________\n",
      "conv2d_4 (Conv2D)            (None, 21, 42, 256)       590080    \n",
      "_________________________________________________________________\n",
      "batch_normalization_2 (Batch (None, 21, 42, 256)       1024      \n",
      "_________________________________________________________________\n",
      "dropout (Dropout)            (None, 21, 42, 256)       0         \n",
      "_________________________________________________________________\n",
      "conv2d_5 (Conv2D)            (None, 21, 42, 256)       590080    \n",
      "_________________________________________________________________\n",
      "max_pooling2d_1 (MaxPooling2 (None, 7, 14, 256)        0         \n",
      "_________________________________________________________________\n",
      "dropout_1 (Dropout)          (None, 7, 14, 256)        0         \n",
      "_________________________________________________________________\n",
      "conv2d_6 (Conv2D)            (None, 7, 14, 512)        1180160   \n",
      "_________________________________________________________________\n",
      "batch_normalization_3 (Batch (None, 7, 14, 512)        2048      \n",
      "_________________________________________________________________\n",
      "conv2d_7 (Conv2D)            (None, 7, 14, 1024)       4719616   \n",
      "_________________________________________________________________\n",
      "max_pooling2d_2 (MaxPooling2 (None, 2, 4, 1024)        0         \n",
      "_________________________________________________________________\n",
      "dropout_2 (Dropout)          (None, 2, 4, 1024)        0         \n",
      "_________________________________________________________________\n",
      "flatten (Flatten)            (None, 8192)              0         \n",
      "_________________________________________________________________\n",
      "dense (Dense)                (None, 2048)              16779264  \n",
      "_________________________________________________________________\n",
      "dense_1 (Dense)              (None, 4096)              8392704   \n",
      "_________________________________________________________________\n",
      "dense_2 (Dense)              (None, 3)                 12291     \n",
      "=================================================================\n",
      "Total params: 32,865,539\n",
      "Trainable params: 32,863,491\n",
      "Non-trainable params: 2,048\n",
      "_________________________________________________________________\n"
     ]
    },
    {
     "name": "stderr",
     "output_type": "stream",
     "text": [
      "2022-02-14 11:21:04.015330: I tensorflow/compiler/mlir/mlir_graph_optimization_pass.cc:185] None of the MLIR Optimization Passes are enabled (registered 2)\n"
     ]
    },
    {
     "name": "stdout",
     "output_type": "stream",
     "text": [
      "Epoch 1/60\n",
      " 10/103 [=>............................] - ETA: 10:52 - loss: 3.2378 - accuracy: 0.3375"
     ]
    },
    {
     "ename": "KeyboardInterrupt",
     "evalue": "",
     "output_type": "error",
     "traceback": [
      "\u001b[0;31m---------------------------------------------------------------------------\u001b[0m",
      "\u001b[0;31mKeyboardInterrupt\u001b[0m                         Traceback (most recent call last)",
      "Input \u001b[0;32mIn [67]\u001b[0m, in \u001b[0;36m<module>\u001b[0;34m\u001b[0m\n\u001b[1;32m     19\u001b[0m model_conv\u001b[38;5;241m.\u001b[39madd(Dense(\u001b[38;5;241m4096\u001b[39m, activation\u001b[38;5;241m=\u001b[39m\u001b[38;5;124m'\u001b[39m\u001b[38;5;124mrelu\u001b[39m\u001b[38;5;124m'\u001b[39m))\n\u001b[1;32m     20\u001b[0m model_conv\u001b[38;5;241m.\u001b[39madd(Dense(CLASS_COUNT, activation\u001b[38;5;241m=\u001b[39m\u001b[38;5;124m'\u001b[39m\u001b[38;5;124msoftmax\u001b[39m\u001b[38;5;124m'\u001b[39m)) \\\n\u001b[0;32m---> 22\u001b[0m \u001b[43mcompile_train_eval_model\u001b[49m\u001b[43m(\u001b[49m\u001b[43mmodel_conv\u001b[49m\u001b[43m,\u001b[49m\n\u001b[1;32m     23\u001b[0m \u001b[43m                         \u001b[49m\u001b[43mtrain_generator\u001b[49m\u001b[43m,\u001b[49m\n\u001b[1;32m     24\u001b[0m \u001b[43m                         \u001b[49m\u001b[43mvalidation_generator\u001b[49m\u001b[43m,\u001b[49m\n\u001b[1;32m     25\u001b[0m \u001b[43m                         \u001b[49m\u001b[43mtest_generator\u001b[49m\u001b[43m,\u001b[49m\n\u001b[1;32m     26\u001b[0m \u001b[43m                         \u001b[49m\u001b[43mclass_labels\u001b[49m\u001b[38;5;241;43m=\u001b[39;49m\u001b[43mCLASS_LIST\u001b[49m\u001b[43m,\u001b[49m\n\u001b[1;32m     27\u001b[0m \u001b[43m                         \u001b[49m\u001b[43mtitle\u001b[49m\u001b[38;5;241;43m=\u001b[39;49m\u001b[38;5;124;43m'\u001b[39;49m\u001b[38;5;124;43mСверточный классификатор\u001b[39;49m\u001b[38;5;124;43m'\u001b[39;49m\u001b[43m)\u001b[49m\n",
      "Input \u001b[0;32mIn [66]\u001b[0m, in \u001b[0;36mcompile_train_eval_model\u001b[0;34m(model, train_data, val_data, test_data, class_labels, title, optimizer, epochs, batch_size, graph_size, cm_size)\u001b[0m\n\u001b[1;32m      1\u001b[0m \u001b[38;5;28;01mdef\u001b[39;00m \u001b[38;5;21mcompile_train_eval_model\u001b[39m(model,\n\u001b[1;32m      2\u001b[0m                              train_data,\n\u001b[1;32m      3\u001b[0m                              val_data,\n\u001b[0;32m   (...)\u001b[0m\n\u001b[1;32m     11\u001b[0m                              cm_size\u001b[38;5;241m=\u001b[39m(\u001b[38;5;241m10\u001b[39m, \u001b[38;5;241m10\u001b[39m)\n\u001b[1;32m     12\u001b[0m                              ):\n\u001b[0;32m---> 14\u001b[0m     \u001b[43mcompile_train_model\u001b[49m\u001b[43m(\u001b[49m\u001b[43mmodel\u001b[49m\u001b[43m,\u001b[49m\u001b[43m \u001b[49m\n\u001b[1;32m     15\u001b[0m \u001b[43m                        \u001b[49m\u001b[43mtrain_data\u001b[49m\u001b[43m,\u001b[49m\n\u001b[1;32m     16\u001b[0m \u001b[43m                        \u001b[49m\u001b[43mval_data\u001b[49m\u001b[43m,\u001b[49m\n\u001b[1;32m     17\u001b[0m \u001b[43m                        \u001b[49m\u001b[43moptimizer\u001b[49m\u001b[38;5;241;43m=\u001b[39;49m\u001b[43moptimizer\u001b[49m\u001b[43m,\u001b[49m\n\u001b[1;32m     18\u001b[0m \u001b[43m                        \u001b[49m\u001b[43mepochs\u001b[49m\u001b[38;5;241;43m=\u001b[39;49m\u001b[43mepochs\u001b[49m\u001b[43m,\u001b[49m\n\u001b[1;32m     19\u001b[0m \u001b[43m                        \u001b[49m\u001b[43mbatch_size\u001b[49m\u001b[38;5;241;43m=\u001b[39;49m\u001b[43mbatch_size\u001b[49m\u001b[43m,\u001b[49m\n\u001b[1;32m     20\u001b[0m \u001b[43m                        \u001b[49m\u001b[43mfigsize\u001b[49m\u001b[38;5;241;43m=\u001b[39;49m\u001b[43mgraph_size\u001b[49m\u001b[43m)\u001b[49m\n\u001b[1;32m     22\u001b[0m     eval_model(model, test_data[\u001b[38;5;241m0\u001b[39m][\u001b[38;5;241m0\u001b[39m], test_data[\u001b[38;5;241m0\u001b[39m][\u001b[38;5;241m1\u001b[39m], \n\u001b[1;32m     23\u001b[0m                class_labels\u001b[38;5;241m=\u001b[39mclass_labels, \n\u001b[1;32m     24\u001b[0m                title\u001b[38;5;241m=\u001b[39mtitle,\n\u001b[1;32m     25\u001b[0m                figsize\u001b[38;5;241m=\u001b[39mcm_size)\n",
      "Input \u001b[0;32mIn [64]\u001b[0m, in \u001b[0;36mcompile_train_model\u001b[0;34m(model, train_data, val_data, figsize, epochs, optimizer, batch_size)\u001b[0m\n\u001b[1;32m      8\u001b[0m model\u001b[38;5;241m.\u001b[39mcompile(loss \u001b[38;5;241m=\u001b[39m \u001b[38;5;124m'\u001b[39m\u001b[38;5;124mcategorical_crossentropy\u001b[39m\u001b[38;5;124m'\u001b[39m, optimizer \u001b[38;5;241m=\u001b[39m OPTIMIZER, metrics \u001b[38;5;241m=\u001b[39m [\u001b[38;5;124m'\u001b[39m\u001b[38;5;124maccuracy\u001b[39m\u001b[38;5;124m'\u001b[39m])\n\u001b[1;32m      9\u001b[0m model\u001b[38;5;241m.\u001b[39msummary()\n\u001b[0;32m---> 10\u001b[0m \u001b[43mmodel\u001b[49m\u001b[38;5;241;43m.\u001b[39;49m\u001b[43mfit\u001b[49m\u001b[43m(\u001b[49m\u001b[43mtrain_data\u001b[49m\u001b[43m,\u001b[49m\u001b[43m \u001b[49m\u001b[43mepochs\u001b[49m\u001b[43m \u001b[49m\u001b[38;5;241;43m=\u001b[39;49m\u001b[43m \u001b[49m\u001b[43mepochs\u001b[49m\u001b[43m,\u001b[49m\u001b[43m \u001b[49m\u001b[43mbatch_size\u001b[49m\u001b[43m \u001b[49m\u001b[38;5;241;43m=\u001b[39;49m\u001b[43m \u001b[49m\u001b[43mbatch_size\u001b[49m\u001b[43m,\u001b[49m\u001b[43m \u001b[49m\u001b[43mvalidation_data\u001b[49m\u001b[43m \u001b[49m\u001b[38;5;241;43m=\u001b[39;49m\u001b[43m \u001b[49m\u001b[43mval_data\u001b[49m\u001b[43m)\u001b[49m\n\u001b[1;32m     12\u001b[0m fig, (ax1, ax2) \u001b[38;5;241m=\u001b[39m plt\u001b[38;5;241m.\u001b[39msubplots(\u001b[38;5;241m1\u001b[39m, \u001b[38;5;241m2\u001b[39m, figsize\u001b[38;5;241m=\u001b[39mfigsize)\n\u001b[1;32m     13\u001b[0m fig\u001b[38;5;241m.\u001b[39msuptitle(\u001b[38;5;124m'\u001b[39m\u001b[38;5;124mГрафик процесса обучения модели\u001b[39m\u001b[38;5;124m'\u001b[39m)\n",
      "File \u001b[0;32m~/.local/lib/python3.8/site-packages/keras/engine/training.py:1184\u001b[0m, in \u001b[0;36mModel.fit\u001b[0;34m(self, x, y, batch_size, epochs, verbose, callbacks, validation_split, validation_data, shuffle, class_weight, sample_weight, initial_epoch, steps_per_epoch, validation_steps, validation_batch_size, validation_freq, max_queue_size, workers, use_multiprocessing)\u001b[0m\n\u001b[1;32m   1177\u001b[0m \u001b[38;5;28;01mwith\u001b[39;00m tf\u001b[38;5;241m.\u001b[39mprofiler\u001b[38;5;241m.\u001b[39mexperimental\u001b[38;5;241m.\u001b[39mTrace(\n\u001b[1;32m   1178\u001b[0m     \u001b[38;5;124m'\u001b[39m\u001b[38;5;124mtrain\u001b[39m\u001b[38;5;124m'\u001b[39m,\n\u001b[1;32m   1179\u001b[0m     epoch_num\u001b[38;5;241m=\u001b[39mepoch,\n\u001b[1;32m   1180\u001b[0m     step_num\u001b[38;5;241m=\u001b[39mstep,\n\u001b[1;32m   1181\u001b[0m     batch_size\u001b[38;5;241m=\u001b[39mbatch_size,\n\u001b[1;32m   1182\u001b[0m     _r\u001b[38;5;241m=\u001b[39m\u001b[38;5;241m1\u001b[39m):\n\u001b[1;32m   1183\u001b[0m   callbacks\u001b[38;5;241m.\u001b[39mon_train_batch_begin(step)\n\u001b[0;32m-> 1184\u001b[0m   tmp_logs \u001b[38;5;241m=\u001b[39m \u001b[38;5;28;43mself\u001b[39;49m\u001b[38;5;241;43m.\u001b[39;49m\u001b[43mtrain_function\u001b[49m\u001b[43m(\u001b[49m\u001b[43miterator\u001b[49m\u001b[43m)\u001b[49m\n\u001b[1;32m   1185\u001b[0m   \u001b[38;5;28;01mif\u001b[39;00m data_handler\u001b[38;5;241m.\u001b[39mshould_sync:\n\u001b[1;32m   1186\u001b[0m     context\u001b[38;5;241m.\u001b[39masync_wait()\n",
      "File \u001b[0;32m~/.local/lib/python3.8/site-packages/tensorflow/python/eager/def_function.py:885\u001b[0m, in \u001b[0;36mFunction.__call__\u001b[0;34m(self, *args, **kwds)\u001b[0m\n\u001b[1;32m    882\u001b[0m compiler \u001b[38;5;241m=\u001b[39m \u001b[38;5;124m\"\u001b[39m\u001b[38;5;124mxla\u001b[39m\u001b[38;5;124m\"\u001b[39m \u001b[38;5;28;01mif\u001b[39;00m \u001b[38;5;28mself\u001b[39m\u001b[38;5;241m.\u001b[39m_jit_compile \u001b[38;5;28;01melse\u001b[39;00m \u001b[38;5;124m\"\u001b[39m\u001b[38;5;124mnonXla\u001b[39m\u001b[38;5;124m\"\u001b[39m\n\u001b[1;32m    884\u001b[0m \u001b[38;5;28;01mwith\u001b[39;00m OptionalXlaContext(\u001b[38;5;28mself\u001b[39m\u001b[38;5;241m.\u001b[39m_jit_compile):\n\u001b[0;32m--> 885\u001b[0m   result \u001b[38;5;241m=\u001b[39m \u001b[38;5;28;43mself\u001b[39;49m\u001b[38;5;241;43m.\u001b[39;49m\u001b[43m_call\u001b[49m\u001b[43m(\u001b[49m\u001b[38;5;241;43m*\u001b[39;49m\u001b[43margs\u001b[49m\u001b[43m,\u001b[49m\u001b[43m \u001b[49m\u001b[38;5;241;43m*\u001b[39;49m\u001b[38;5;241;43m*\u001b[39;49m\u001b[43mkwds\u001b[49m\u001b[43m)\u001b[49m\n\u001b[1;32m    887\u001b[0m new_tracing_count \u001b[38;5;241m=\u001b[39m \u001b[38;5;28mself\u001b[39m\u001b[38;5;241m.\u001b[39mexperimental_get_tracing_count()\n\u001b[1;32m    888\u001b[0m without_tracing \u001b[38;5;241m=\u001b[39m (tracing_count \u001b[38;5;241m==\u001b[39m new_tracing_count)\n",
      "File \u001b[0;32m~/.local/lib/python3.8/site-packages/tensorflow/python/eager/def_function.py:917\u001b[0m, in \u001b[0;36mFunction._call\u001b[0;34m(self, *args, **kwds)\u001b[0m\n\u001b[1;32m    914\u001b[0m   \u001b[38;5;28mself\u001b[39m\u001b[38;5;241m.\u001b[39m_lock\u001b[38;5;241m.\u001b[39mrelease()\n\u001b[1;32m    915\u001b[0m   \u001b[38;5;66;03m# In this case we have created variables on the first call, so we run the\u001b[39;00m\n\u001b[1;32m    916\u001b[0m   \u001b[38;5;66;03m# defunned version which is guaranteed to never create variables.\u001b[39;00m\n\u001b[0;32m--> 917\u001b[0m   \u001b[38;5;28;01mreturn\u001b[39;00m \u001b[38;5;28;43mself\u001b[39;49m\u001b[38;5;241;43m.\u001b[39;49m\u001b[43m_stateless_fn\u001b[49m\u001b[43m(\u001b[49m\u001b[38;5;241;43m*\u001b[39;49m\u001b[43margs\u001b[49m\u001b[43m,\u001b[49m\u001b[43m \u001b[49m\u001b[38;5;241;43m*\u001b[39;49m\u001b[38;5;241;43m*\u001b[39;49m\u001b[43mkwds\u001b[49m\u001b[43m)\u001b[49m  \u001b[38;5;66;03m# pylint: disable=not-callable\u001b[39;00m\n\u001b[1;32m    918\u001b[0m \u001b[38;5;28;01melif\u001b[39;00m \u001b[38;5;28mself\u001b[39m\u001b[38;5;241m.\u001b[39m_stateful_fn \u001b[38;5;129;01mis\u001b[39;00m \u001b[38;5;129;01mnot\u001b[39;00m \u001b[38;5;28;01mNone\u001b[39;00m:\n\u001b[1;32m    919\u001b[0m   \u001b[38;5;66;03m# Release the lock early so that multiple threads can perform the call\u001b[39;00m\n\u001b[1;32m    920\u001b[0m   \u001b[38;5;66;03m# in parallel.\u001b[39;00m\n\u001b[1;32m    921\u001b[0m   \u001b[38;5;28mself\u001b[39m\u001b[38;5;241m.\u001b[39m_lock\u001b[38;5;241m.\u001b[39mrelease()\n",
      "File \u001b[0;32m~/.local/lib/python3.8/site-packages/tensorflow/python/eager/function.py:3039\u001b[0m, in \u001b[0;36mFunction.__call__\u001b[0;34m(self, *args, **kwargs)\u001b[0m\n\u001b[1;32m   3036\u001b[0m \u001b[38;5;28;01mwith\u001b[39;00m \u001b[38;5;28mself\u001b[39m\u001b[38;5;241m.\u001b[39m_lock:\n\u001b[1;32m   3037\u001b[0m   (graph_function,\n\u001b[1;32m   3038\u001b[0m    filtered_flat_args) \u001b[38;5;241m=\u001b[39m \u001b[38;5;28mself\u001b[39m\u001b[38;5;241m.\u001b[39m_maybe_define_function(args, kwargs)\n\u001b[0;32m-> 3039\u001b[0m \u001b[38;5;28;01mreturn\u001b[39;00m \u001b[43mgraph_function\u001b[49m\u001b[38;5;241;43m.\u001b[39;49m\u001b[43m_call_flat\u001b[49m\u001b[43m(\u001b[49m\n\u001b[1;32m   3040\u001b[0m \u001b[43m    \u001b[49m\u001b[43mfiltered_flat_args\u001b[49m\u001b[43m,\u001b[49m\u001b[43m \u001b[49m\u001b[43mcaptured_inputs\u001b[49m\u001b[38;5;241;43m=\u001b[39;49m\u001b[43mgraph_function\u001b[49m\u001b[38;5;241;43m.\u001b[39;49m\u001b[43mcaptured_inputs\u001b[49m\u001b[43m)\u001b[49m\n",
      "File \u001b[0;32m~/.local/lib/python3.8/site-packages/tensorflow/python/eager/function.py:1963\u001b[0m, in \u001b[0;36mConcreteFunction._call_flat\u001b[0;34m(self, args, captured_inputs, cancellation_manager)\u001b[0m\n\u001b[1;32m   1959\u001b[0m possible_gradient_type \u001b[38;5;241m=\u001b[39m gradients_util\u001b[38;5;241m.\u001b[39mPossibleTapeGradientTypes(args)\n\u001b[1;32m   1960\u001b[0m \u001b[38;5;28;01mif\u001b[39;00m (possible_gradient_type \u001b[38;5;241m==\u001b[39m gradients_util\u001b[38;5;241m.\u001b[39mPOSSIBLE_GRADIENT_TYPES_NONE\n\u001b[1;32m   1961\u001b[0m     \u001b[38;5;129;01mand\u001b[39;00m executing_eagerly):\n\u001b[1;32m   1962\u001b[0m   \u001b[38;5;66;03m# No tape is watching; skip to running the function.\u001b[39;00m\n\u001b[0;32m-> 1963\u001b[0m   \u001b[38;5;28;01mreturn\u001b[39;00m \u001b[38;5;28mself\u001b[39m\u001b[38;5;241m.\u001b[39m_build_call_outputs(\u001b[38;5;28;43mself\u001b[39;49m\u001b[38;5;241;43m.\u001b[39;49m\u001b[43m_inference_function\u001b[49m\u001b[38;5;241;43m.\u001b[39;49m\u001b[43mcall\u001b[49m\u001b[43m(\u001b[49m\n\u001b[1;32m   1964\u001b[0m \u001b[43m      \u001b[49m\u001b[43mctx\u001b[49m\u001b[43m,\u001b[49m\u001b[43m \u001b[49m\u001b[43margs\u001b[49m\u001b[43m,\u001b[49m\u001b[43m \u001b[49m\u001b[43mcancellation_manager\u001b[49m\u001b[38;5;241;43m=\u001b[39;49m\u001b[43mcancellation_manager\u001b[49m\u001b[43m)\u001b[49m)\n\u001b[1;32m   1965\u001b[0m forward_backward \u001b[38;5;241m=\u001b[39m \u001b[38;5;28mself\u001b[39m\u001b[38;5;241m.\u001b[39m_select_forward_and_backward_functions(\n\u001b[1;32m   1966\u001b[0m     args,\n\u001b[1;32m   1967\u001b[0m     possible_gradient_type,\n\u001b[1;32m   1968\u001b[0m     executing_eagerly)\n\u001b[1;32m   1969\u001b[0m forward_function, args_with_tangents \u001b[38;5;241m=\u001b[39m forward_backward\u001b[38;5;241m.\u001b[39mforward()\n",
      "File \u001b[0;32m~/.local/lib/python3.8/site-packages/tensorflow/python/eager/function.py:591\u001b[0m, in \u001b[0;36m_EagerDefinedFunction.call\u001b[0;34m(self, ctx, args, cancellation_manager)\u001b[0m\n\u001b[1;32m    589\u001b[0m \u001b[38;5;28;01mwith\u001b[39;00m _InterpolateFunctionError(\u001b[38;5;28mself\u001b[39m):\n\u001b[1;32m    590\u001b[0m   \u001b[38;5;28;01mif\u001b[39;00m cancellation_manager \u001b[38;5;129;01mis\u001b[39;00m \u001b[38;5;28;01mNone\u001b[39;00m:\n\u001b[0;32m--> 591\u001b[0m     outputs \u001b[38;5;241m=\u001b[39m \u001b[43mexecute\u001b[49m\u001b[38;5;241;43m.\u001b[39;49m\u001b[43mexecute\u001b[49m\u001b[43m(\u001b[49m\n\u001b[1;32m    592\u001b[0m \u001b[43m        \u001b[49m\u001b[38;5;28;43mstr\u001b[39;49m\u001b[43m(\u001b[49m\u001b[38;5;28;43mself\u001b[39;49m\u001b[38;5;241;43m.\u001b[39;49m\u001b[43msignature\u001b[49m\u001b[38;5;241;43m.\u001b[39;49m\u001b[43mname\u001b[49m\u001b[43m)\u001b[49m\u001b[43m,\u001b[49m\n\u001b[1;32m    593\u001b[0m \u001b[43m        \u001b[49m\u001b[43mnum_outputs\u001b[49m\u001b[38;5;241;43m=\u001b[39;49m\u001b[38;5;28;43mself\u001b[39;49m\u001b[38;5;241;43m.\u001b[39;49m\u001b[43m_num_outputs\u001b[49m\u001b[43m,\u001b[49m\n\u001b[1;32m    594\u001b[0m \u001b[43m        \u001b[49m\u001b[43minputs\u001b[49m\u001b[38;5;241;43m=\u001b[39;49m\u001b[43margs\u001b[49m\u001b[43m,\u001b[49m\n\u001b[1;32m    595\u001b[0m \u001b[43m        \u001b[49m\u001b[43mattrs\u001b[49m\u001b[38;5;241;43m=\u001b[39;49m\u001b[43mattrs\u001b[49m\u001b[43m,\u001b[49m\n\u001b[1;32m    596\u001b[0m \u001b[43m        \u001b[49m\u001b[43mctx\u001b[49m\u001b[38;5;241;43m=\u001b[39;49m\u001b[43mctx\u001b[49m\u001b[43m)\u001b[49m\n\u001b[1;32m    597\u001b[0m   \u001b[38;5;28;01melse\u001b[39;00m:\n\u001b[1;32m    598\u001b[0m     outputs \u001b[38;5;241m=\u001b[39m execute\u001b[38;5;241m.\u001b[39mexecute_with_cancellation(\n\u001b[1;32m    599\u001b[0m         \u001b[38;5;28mstr\u001b[39m(\u001b[38;5;28mself\u001b[39m\u001b[38;5;241m.\u001b[39msignature\u001b[38;5;241m.\u001b[39mname),\n\u001b[1;32m    600\u001b[0m         num_outputs\u001b[38;5;241m=\u001b[39m\u001b[38;5;28mself\u001b[39m\u001b[38;5;241m.\u001b[39m_num_outputs,\n\u001b[0;32m   (...)\u001b[0m\n\u001b[1;32m    603\u001b[0m         ctx\u001b[38;5;241m=\u001b[39mctx,\n\u001b[1;32m    604\u001b[0m         cancellation_manager\u001b[38;5;241m=\u001b[39mcancellation_manager)\n",
      "File \u001b[0;32m~/.local/lib/python3.8/site-packages/tensorflow/python/eager/execute.py:59\u001b[0m, in \u001b[0;36mquick_execute\u001b[0;34m(op_name, num_outputs, inputs, attrs, ctx, name)\u001b[0m\n\u001b[1;32m     57\u001b[0m \u001b[38;5;28;01mtry\u001b[39;00m:\n\u001b[1;32m     58\u001b[0m   ctx\u001b[38;5;241m.\u001b[39mensure_initialized()\n\u001b[0;32m---> 59\u001b[0m   tensors \u001b[38;5;241m=\u001b[39m \u001b[43mpywrap_tfe\u001b[49m\u001b[38;5;241;43m.\u001b[39;49m\u001b[43mTFE_Py_Execute\u001b[49m\u001b[43m(\u001b[49m\u001b[43mctx\u001b[49m\u001b[38;5;241;43m.\u001b[39;49m\u001b[43m_handle\u001b[49m\u001b[43m,\u001b[49m\u001b[43m \u001b[49m\u001b[43mdevice_name\u001b[49m\u001b[43m,\u001b[49m\u001b[43m \u001b[49m\u001b[43mop_name\u001b[49m\u001b[43m,\u001b[49m\n\u001b[1;32m     60\u001b[0m \u001b[43m                                      \u001b[49m\u001b[43minputs\u001b[49m\u001b[43m,\u001b[49m\u001b[43m \u001b[49m\u001b[43mattrs\u001b[49m\u001b[43m,\u001b[49m\u001b[43m \u001b[49m\u001b[43mnum_outputs\u001b[49m\u001b[43m)\u001b[49m\n\u001b[1;32m     61\u001b[0m \u001b[38;5;28;01mexcept\u001b[39;00m core\u001b[38;5;241m.\u001b[39m_NotOkStatusException \u001b[38;5;28;01mas\u001b[39;00m e:\n\u001b[1;32m     62\u001b[0m   \u001b[38;5;28;01mif\u001b[39;00m name \u001b[38;5;129;01mis\u001b[39;00m \u001b[38;5;129;01mnot\u001b[39;00m \u001b[38;5;28;01mNone\u001b[39;00m:\n",
      "\u001b[0;31mKeyboardInterrupt\u001b[0m: "
     ]
    }
   ],
   "source": [
    "model_conv = Sequential()\n",
    "model_conv.add(Conv2D(256, (3, 3), padding='same', activation='relu', input_shape=(IMG_HEIGHT, IMG_WIDTH, IMG_CHANNELS)))\n",
    "model_conv.add(BatchNormalization())\n",
    "model_conv.add(Conv2D(256, (3, 3), padding='same', activation='relu'))\n",
    "model_conv.add(MaxPooling2D(pool_size=(3, 3)))\n",
    "model_conv.add(Conv2D(256, (3, 3), padding='same', activation='relu'))\n",
    "model_conv.add(BatchNormalization())\n",
    "model_conv.add(Dropout(0.2))\n",
    "model_conv.add(Conv2D(256, (3, 3), padding='same', activation='relu'))\n",
    "model_conv.add(MaxPooling2D(pool_size=(3, 3)))\n",
    "model_conv.add(Dropout(0.2))\n",
    "model_conv.add(Conv2D(512, (3, 3), padding='same', activation='relu'))\n",
    "model_conv.add(BatchNormalization())\n",
    "model_conv.add(Conv2D(1024, (3, 3), padding='same', activation='relu'))\n",
    "model_conv.add(MaxPooling2D(pool_size=(3, 3)))\n",
    "model_conv.add(Dropout(0.2))\n",
    "model_conv.add(Flatten())\n",
    "model_conv.add(Dense(2048, activation='relu'))\n",
    "model_conv.add(Dense(4096, activation='relu'))\n",
    "model_conv.add(Dense(CLASS_COUNT, activation='softmax')) \\\n",
    "\n",
    "compile_train_eval_model(model_conv,\n",
    "                         train_generator,\n",
    "                         validation_generator,\n",
    "                         test_generator,\n",
    "                         class_labels=CLASS_LIST,\n",
    "                         title='Сверточный классификатор')"
   ]
  },
  {
   "cell_type": "code",
   "execution_count": null,
   "id": "ef01de1b",
   "metadata": {},
   "outputs": [],
   "source": []
  }
 ],
 "metadata": {
  "kernelspec": {
   "display_name": "Python 3 (ipykernel)",
   "language": "python",
   "name": "python3"
  },
  "language_info": {
   "codemirror_mode": {
    "name": "ipython",
    "version": 3
   },
   "file_extension": ".py",
   "mimetype": "text/x-python",
   "name": "python",
   "nbconvert_exporter": "python",
   "pygments_lexer": "ipython3",
   "version": "3.8.10"
  }
 },
 "nbformat": 4,
 "nbformat_minor": 5
}
